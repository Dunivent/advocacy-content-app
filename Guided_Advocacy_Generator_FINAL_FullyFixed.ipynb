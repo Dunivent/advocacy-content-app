{
 "cells": [
  {
   "cell_type": "markdown",
   "id": "004fd96a",
   "metadata": {},
   "source": [
    "# Guided Advocacy Content Generator\n",
    "**Step 1: Inputs & Setup**"
   ]
  },
  {
   "cell_type": "code",
   "execution_count": 1,
   "id": "2d567366",
   "metadata": {},
   "outputs": [
    {
     "name": "stdout",
     "output_type": "stream",
     "text": [
      "\n",
      "Step 1 – Select a Category\n",
      "1. Health & Wellbeing\n",
      "2. Education\n",
      "3. Housing & Homelessness\n",
      "4. Criminal Justice & Policing\n",
      "5. Poverty & Economic Justice\n",
      "6. Civil Rights & Discrimination\n",
      "7. Environmental & Climate Justice\n",
      "8. Technology & Digital Rights\n",
      "9. Voting & Civic Engagement\n"
     ]
    },
    {
     "name": "stdin",
     "output_type": "stream",
     "text": [
      "Enter the number of your choice:  5\n"
     ]
    },
    {
     "name": "stdout",
     "output_type": "stream",
     "text": [
      "\n",
      "Issues in Poverty & Economic Justice:\n",
      "1. Minimum wage and living wage laws\n",
      "2. Unemployment insurance\n",
      "3. Food insecurity\n",
      "4. Access to childcare\n",
      "5. Paid family leave and sick leave\n",
      "6. Universal basic income\n"
     ]
    },
    {
     "name": "stdin",
     "output_type": "stream",
     "text": [
      "Enter the number of your choice:  2\n"
     ]
    },
    {
     "name": "stdout",
     "output_type": "stream",
     "text": [
      "\n",
      "Step 3 – Select a Focus Area\n",
      "1. Raise Awareness\n",
      "2. Take Action\n",
      "3. Outreach Support\n"
     ]
    },
    {
     "name": "stdin",
     "output_type": "stream",
     "text": [
      "Enter the number of your choice:  2\n"
     ]
    },
    {
     "name": "stdout",
     "output_type": "stream",
     "text": [
      "\n",
      "Step 4 – Select a State and County\n"
     ]
    },
    {
     "name": "stdin",
     "output_type": "stream",
     "text": [
      "Enter 2-letter state abbreviation (e.g., NY):  NY\n"
     ]
    },
    {
     "name": "stdout",
     "output_type": "stream",
     "text": [
      "1. Albany County\n",
      "2. Allegany County\n",
      "3. Bronx County\n",
      "4. Broome County\n",
      "5. Cattaraugus County\n",
      "6. Cayuga County\n",
      "7. Chautauqua County\n",
      "8. Chemung County\n",
      "9. Chenango County\n",
      "10. Clinton County\n",
      "11. Columbia County\n",
      "12. Cortland County\n",
      "13. Delaware County\n",
      "14. Dutchess County\n",
      "15. Erie County\n",
      "16. Essex County\n",
      "17. Franklin County\n",
      "18. Fulton County\n",
      "19. Genesee County\n",
      "20. Greene County\n",
      "21. Hamilton County\n",
      "22. Herkimer County\n",
      "23. Jefferson County\n",
      "24. Kings County\n",
      "25. Lewis County\n",
      "26. Livingston County\n",
      "27. Madison County\n",
      "28. Monroe County\n",
      "29. Montgomery County\n",
      "30. Nassau County\n",
      "31. New York County\n",
      "32. Niagara County\n",
      "33. Oneida County\n",
      "34. Onondaga County\n",
      "35. Ontario County\n",
      "36. Orange County\n",
      "37. Orleans County\n",
      "38. Oswego County\n",
      "39. Otsego County\n",
      "40. Putnam County\n",
      "41. Queens County\n",
      "42. Rensselaer County\n",
      "43. Richmond County\n",
      "44. Rockland County\n",
      "45. Saratoga County\n",
      "46. Schenectady County\n",
      "47. Schoharie County\n",
      "48. Schuyler County\n",
      "49. Seneca County\n",
      "50. St. Lawrence County\n",
      "51. Steuben County\n",
      "52. Suffolk County\n",
      "53. Sullivan County\n",
      "54. Tioga County\n",
      "55. Tompkins County\n",
      "56. Ulster County\n",
      "57. Warren County\n",
      "58. Washington County\n",
      "59. Wayne County\n",
      "60. Westchester County\n",
      "61. Wyoming County\n",
      "62. Yates County\n"
     ]
    },
    {
     "name": "stdin",
     "output_type": "stream",
     "text": [
      "Enter the number of your county:  59\n",
      "\n",
      "Step 5 – How many statistics would you like to include (1–5)?  4\n"
     ]
    },
    {
     "name": "stdout",
     "output_type": "stream",
     "text": [
      "\n",
      "✅ Inputs captured successfully.\n"
     ]
    }
   ],
   "source": [
    "import pandas as pd\n",
    "import os\n",
    "from dotenv import load_dotenv\n",
    "\n",
    "load_dotenv()\n",
    "\n",
    "# Load data\n",
    "issues_df = pd.read_csv(\"Social_Issues_List.csv\")\n",
    "fips_df = pd.read_csv(\"state_and_county_fips_master.csv\")\n",
    "\n",
    "# Prompt 1: Category selection\n",
    "print(\"\\nStep 1 – Select a Category\")\n",
    "categories = issues_df['Category'].unique().tolist()\n",
    "for i, cat in enumerate(categories):\n",
    "    print(f\"{i + 1}. {cat}\")\n",
    "cat_idx = int(input(\"Enter the number of your choice: \")) - 1\n",
    "category = categories[cat_idx]\n",
    "\n",
    "# Prompt 2: Issue selection\n",
    "filtered = issues_df[issues_df['Category'] == category]['Issue'].tolist()\n",
    "print(f\"\\nIssues in {category}:\")\n",
    "for i, issue in enumerate(filtered):\n",
    "    print(f\"{i + 1}. {issue}\")\n",
    "issue = filtered[int(input(\"Enter the number of your choice: \")) - 1]\n",
    "\n",
    "# Prompt 3: Focus area\n",
    "focus_areas = [\"Raise Awareness\", \"Take Action\", \"Outreach Support\"]\n",
    "print(\"\\nStep 3 – Select a Focus Area\")\n",
    "for i, fa in enumerate(focus_areas):\n",
    "    print(f\"{i + 1}. {fa}\")\n",
    "focus_area = focus_areas[int(input(\"Enter the number of your choice: \")) - 1]\n",
    "\n",
    "# Prompt 4: State and county\n",
    "print(\"\\nStep 4 – Select a State and County\")\n",
    "state_input = input(\"Enter 2-letter state abbreviation (e.g., NY): \").strip().upper()\n",
    "available_counties = fips_df[fips_df['state'] == state_input]['name'].unique()\n",
    "sorted_counties = sorted(available_counties)\n",
    "for i, name in enumerate(sorted_counties):\n",
    "    print(f\"{i + 1}. {name}\")\n",
    "county_input = sorted_counties[int(input(\"Enter the number of your county: \")) - 1]\n",
    "\n",
    "# Prompt 5: Number of statistics\n",
    "try:\n",
    "    stat_count = int(input(\"\\nStep 5 – How many statistics would you like to include (1–5)? \"))\n",
    "    if not 1 <= stat_count <= 5:\n",
    "        raise ValueError\n",
    "except ValueError:\n",
    "    print(\"Invalid input. Defaulting to 3.\")\n",
    "    stat_count = 3\n",
    "\n",
    "print(\"\\n✅ Inputs captured successfully.\")\n"
   ]
  },
  {
   "cell_type": "markdown",
   "id": "7ddc8e24",
   "metadata": {},
   "source": [
    "# Guided Advocacy Content Generator\n",
    "**Step 2: Generate and Display Statistical Statements**"
   ]
  },
  {
   "cell_type": "code",
   "execution_count": 3,
   "id": "2edce4f0",
   "metadata": {},
   "outputs": [
    {
     "name": "stdout",
     "output_type": "stream",
     "text": [
      "📊 The following statistical statement(s) will be used in the next step:\n"
     ]
    }
   ],
   "source": [
    "# Step 2: Prepare only the number of statistics requested for selected issue\n",
    "\n",
    "statements = []\n",
    "available_stats = []\n",
    "\n",
    "# Census data\n",
    "if 'census_stats' in globals():\n",
    "    available_stats.extend([\n",
    "        f\"The poverty rate in {county_input} County is {census_stats.get('poverty_rate')}.\",\n",
    "        f\"The median household income in {county_input} County is {census_stats.get('median_income')}.\",\n",
    "        f\"The unemployment rate in {county_input} County is {census_stats.get('unemployment_rate')} (Census data).\"\n",
    "    ])\n",
    "\n",
    "# BLS data\n",
    "if 'bls_stats' in globals():\n",
    "    available_stats.append(\n",
    "        f\"The unemployment rate in {county_input} County is {bls_stats.get('bls_unemployment_rate')} (BLS data).\"\n",
    "    )\n",
    "\n",
    "# EPI data\n",
    "if 'epi_data' in globals():\n",
    "    available_stats.extend([\n",
    "        f\"Low-wage earners saw a {epi_data['low_wage_growth']} growth in wages.\",\n",
    "        f\"The top 1% experienced a {epi_data['top_1_percent_growth']} growth in wages.\",\n",
    "        f\"The white-Black wage gap is currently {epi_data['white_black_wage_gap']}.\"\n",
    "    ])\n",
    "\n",
    "# EEOC data\n",
    "if 'eeoc_summary' in globals():\n",
    "    eeoc_line = \"The top 5 discrimination bases according to the EEOC are: \" + \", \".join(eeoc_summary[\"top_5_discrimination_bases\"]) + \".\"\n",
    "    available_stats.append(eeoc_line)\n",
    "\n",
    "# Criminal justice\n",
    "if 'incarceration_stats' in globals():\n",
    "    jail_count = incarceration_stats[\"summary\"].get(\"jail_count\")\n",
    "    jail_rate = incarceration_stats[\"summary\"].get(\"jail_rate_per_100k\")\n",
    "    available_stats.extend([\n",
    "        f\"There are approximately {jail_count} individuals in jail in {county_input} County.\",\n",
    "        f\"The incarceration rate is {jail_rate} per 100,000 people.\"\n",
    "    ])\n",
    "\n",
    "if 'use_of_force_stats' in globals():\n",
    "    force_stats = use_of_force_stats[\"summary\"]\n",
    "    available_stats.extend([\n",
    "        f\"Reported use-of-force incidents: {force_stats.get('incidents')}.\",\n",
    "        f\"The use-of-force rate is {force_stats.get('rate_per_100k')} per 100,000 residents.\"\n",
    "    ])\n",
    "\n",
    "# Trim to selected number of statistics\n",
    "statements = available_stats[:stat_count]\n",
    "\n",
    "# Display selected stats for review\n",
    "print(\"📊 The following statistical statement(s) will be used in the next step:\")\n",
    "for i, stat in enumerate(statements, 1):\n",
    "    print(f\"{i}. {stat}\")\n",
    "\n",
    "# Confirm global variable for continuity\n",
    "globals()['statements'] = statements\n"
   ]
  },
  {
   "cell_type": "markdown",
   "id": "3b8cea43",
   "metadata": {},
   "source": [
    "# Guided Advocacy Content Generator\n",
    "**Step 3: Content Generation & Review**"
   ]
  },
  {
   "cell_type": "code",
   "execution_count": 6,
   "id": "6998d912",
   "metadata": {},
   "outputs": [
    {
     "name": "stdout",
     "output_type": "stream",
     "text": [
      "✅ Generated Advocacy Content:\n",
      "📣 ATTENTION Wayne County, NY! 📣\n",
      "\n",
      "Did you know that in our very own county, the unemployment rate has been skyrocketing? Too many of our friends and neighbors are struggling to make ends meet. Without unemployment insurance, the effects are even more devastating.\n",
      "\n",
      "📊 Statistics show that 1 in 4 residents of Wayne County are currently unemployed. That's 25% of our community grappling with financial uncertainty. And what's more concerning? Over 60% of these individuals do not have unemployment insurance!\n",
      "\n",
      "This is a call to action, Wayne County! It's time to stand together and advocate for change. \n",
      "\n",
      "✍️👥 We urge you to join us in contacting local representatives and demanding an increase in access to unemployment insurance. Our community deserves better. \n",
      "\n",
      "Help us spread the word and make a difference. Share this post, talk to your representatives, and let's ensure everyone in Wayne County has the security they need during these challenging times. \n",
      "\n",
      "👉 Click the link in our bio to find out how you can take action today. \n",
      "\n",
      "#WayneCountyUnites #UnemploymentInsuranceNow #TakeAction\n",
      "\n"
     ]
    }
   ],
   "source": [
    "from openai import OpenAI\n",
    "client = OpenAI()\n",
    "\n",
    "# Join selected statistical statements\n",
    "joined_stats = \"\\n\".join(statements)\n",
    "\n",
    "# Focus-area-specific instruction\n",
    "focus_instructions = {\n",
    "    \"Raise Awareness\": \"Write a short policy brief, a social media post, and a concise email to supporters using the following statistics.\",\n",
    "    \"Take Action\": \"Create a social media post that includes a clear call to action and uses the following statistics for urgency.\",\n",
    "    \"Outreach Support\": \"Draft an outreach letter or newsletter message using the following statistics to engage partners and supporters.\"\n",
    "}\n",
    "\n",
    "prompt = f\"\"\"\n",
    "You are writing for a nonprofit focused on advocacy.\n",
    "\n",
    "Topic: {issue}\n",
    "Location: {county_input} County, {state_input}\n",
    "Focus Area: {focus_area}\n",
    "\n",
    "{focus_instructions[focus_area]}\n",
    "\n",
    "Statistics:\n",
    "{joined_stats}\n",
    "\n",
    "Ensure the tone and format align with the focus area.\n",
    "\"\"\"\n",
    "\n",
    "response = client.chat.completions.create(\n",
    "    model=\"gpt-4\",\n",
    "    messages=[\n",
    "        {\"role\": \"system\", \"content\": \"You generate high-impact advocacy content.\"},\n",
    "        {\"role\": \"user\", \"content\": prompt}\n",
    "    ],\n",
    "    temperature=0.7,\n",
    "    max_tokens=800\n",
    ")\n",
    "\n",
    "generated_content = response.choices[0].message.content\n",
    "\n",
    "print(\"✅ Generated Advocacy Content:\")\n",
    "print(generated_content)\n"
   ]
  },
  {
   "cell_type": "markdown",
   "id": "354414c0",
   "metadata": {},
   "source": [
    "# Guided Advocacy Content Generator\n",
    "**Step 4: Schedule Review & Posting Setup (Final Fix)**"
   ]
  },
  {
   "cell_type": "code",
   "execution_count": 9,
   "id": "755613dc",
   "metadata": {},
   "outputs": [
    {
     "name": "stdout",
     "output_type": "stream",
     "text": [
      "📅 Current Scheduled Posts:\n",
      "- Policy Brief on Housing at 2024-04-25 10:00 AM\n",
      "- Outreach Letter - Health Access at 2024-04-26 2:00 PM\n",
      "- Social Media Post - Voting Rights at 2024-04-27 12:00 PM\n",
      "\n",
      "📌 Suggested Posting Time: 2025-04-21 at 10:00 AM\n"
     ]
    },
    {
     "name": "stdin",
     "output_type": "stream",
     "text": [
      "Do you want to use the suggested posting time? (yes/no):  y\n",
      "Enter your preferred posting date (YYYY-MM-DD):  2025-04-21\n",
      "Enter your preferred posting time (e.g., 2:30 PM):  10am\n"
     ]
    },
    {
     "name": "stdout",
     "output_type": "stream",
     "text": [
      "✅ Scheduled for 2025-04-21 at 10am\n"
     ]
    }
   ],
   "source": [
    "from datetime import datetime, timedelta\n",
    "\n",
    "# Simulated schedule\n",
    "mock_schedule = [\n",
    "    {\"title\": \"Policy Brief on Housing\", \"scheduled_time\": \"2024-04-25 10:00 AM\"},\n",
    "    {\"title\": \"Outreach Letter - Health Access\", \"scheduled_time\": \"2024-04-26 2:00 PM\"},\n",
    "    {\"title\": \"Social Media Post - Voting Rights\", \"scheduled_time\": \"2024-04-27 12:00 PM\"},\n",
    "]\n",
    "\n",
    "print(\"📅 Current Scheduled Posts:\")\n",
    "for item in mock_schedule:\n",
    "    print(f\"- {item['title']} at {item['scheduled_time']}\")\n",
    "\n",
    "# Suggest next slot\n",
    "next_slot = datetime.now() + timedelta(days=1)\n",
    "suggested_date = next_slot.strftime(\"%Y-%m-%d\")\n",
    "suggested_time = \"10:00 AM\"\n",
    "\n",
    "print(f\"\\n📌 Suggested Posting Time: {suggested_date} at {suggested_time}\")\n",
    "\n",
    "# Prompt user for scheduling choice\n",
    "use_suggested = input(\"Do you want to use the suggested posting time? (yes/no): \").strip().lower()\n",
    "\n",
    "if use_suggested == \"yes\":\n",
    "    scheduled_date = suggested_date\n",
    "    scheduled_time = suggested_time\n",
    "    print(f\"✅ Scheduled for {scheduled_date} at {scheduled_time}\")\n",
    "else:\n",
    "    scheduled_date = input(\"Enter your preferred posting date (YYYY-MM-DD): \").strip()\n",
    "    scheduled_time = input(\"Enter your preferred posting time (e.g., 2:30 PM): \").strip()\n",
    "    print(f\"✅ Scheduled for {scheduled_date} at {scheduled_time}\")\n"
   ]
  },
  {
   "cell_type": "markdown",
   "id": "f2d52550",
   "metadata": {},
   "source": [
    "# Guided Advocacy Content Generator\n",
    "**Step 5: Summary & Internal Email to Leadership**"
   ]
  },
  {
   "cell_type": "code",
   "execution_count": 11,
   "id": "4750a0b4",
   "metadata": {},
   "outputs": [
    {
     "name": "stdout",
     "output_type": "stream",
     "text": [
      "✅ Internal Email to Leadership:\n",
      "\n",
      "To: Advocacy & Policy Leadership Team\n",
      "Subject: Scheduled Advocacy Content – Unemployment insurance\n",
      "\n",
      "Hello Team,\n",
      "\n",
      "This is a summary of newly approved content for upcoming distribution:\n",
      "\n",
      "\n",
      "📢 Advocacy Content Scheduled\n",
      "\n",
      "- Topic: Unemployment insurance\n",
      "- Location: Wayne County, NY\n",
      "- Focus Area: Take Action\n",
      "- Scheduled Posting Time: 2025-04-21 at 10am\n",
      "- Key Statistics Used: 4\n",
      "\n",
      "The content has been reviewed and approved for release. Please see below for full copy.\n",
      "\n",
      "\n",
      "Full Content:\n",
      "📣 ATTENTION Wayne County, NY! 📣\n",
      "\n",
      "Did you know that in our very own county, the unemployment rate has been skyrocketing? Too many of our friends and neighbors are struggling to make ends meet. Without unemployment insurance, the effects are even more devastating.\n",
      "\n",
      "📊 Statistics show that 1 in 4 residents of Wayne County are currently unemployed. That's 25% of our community grappling with financial uncertainty. And what's more concerning? Over 60% of these individuals do not have unemployment insurance!\n",
      "\n",
      "This is a call to action, Wayne County! It's time to stand together and advocate for change. \n",
      "\n",
      "✍️👥 We urge you to join us in contacting local representatives and demanding an increase in access to unemployment insurance. Our community deserves better. \n",
      "\n",
      "Help us spread the word and make a difference. Share this post, talk to your representatives, and let's ensure everyone in Wayne County has the security they need during these challenging times. \n",
      "\n",
      "👉 Click the link in our bio to find out how you can take action today. \n",
      "\n",
      "#WayneCountyUnites #UnemploymentInsuranceNow #TakeAction\n",
      "\n",
      "\n",
      "Best,\n",
      "Automated Advocacy Generator\n",
      "\n"
     ]
    }
   ],
   "source": [
    "# Generate summary of scheduled content\n",
    "summary = f\"\"\"\n",
    "📢 Advocacy Content Scheduled\n",
    "\n",
    "- Topic: {issue}\n",
    "- Location: {county_input}, {state_input}\n",
    "- Focus Area: {focus_area}\n",
    "- Scheduled Posting Time: {scheduled_date} at {scheduled_time}\n",
    "- Key Statistics Used: {stat_count}\n",
    "\n",
    "The content has been reviewed and approved for release. Please see below for full copy.\n",
    "\"\"\"\n",
    "\n",
    "# Email content (mock for demonstration)\n",
    "internal_email = f\"\"\"\n",
    "To: Advocacy & Policy Leadership Team\n",
    "Subject: Scheduled Advocacy Content – {issue}\n",
    "\n",
    "Hello Team,\n",
    "\n",
    "This is a summary of newly approved content for upcoming distribution:\n",
    "\n",
    "{summary}\n",
    "\n",
    "Full Content:\n",
    "{generated_content}\n",
    "\n",
    "Best,\n",
    "Automated Advocacy Generator\n",
    "\"\"\"\n",
    "\n",
    "print(\"✅ Internal Email to Leadership:\")\n",
    "print(internal_email)\n"
   ]
  },
  {
   "cell_type": "code",
   "execution_count": null,
   "id": "325c7e48-e280-414e-9734-d1d46898ffcb",
   "metadata": {},
   "outputs": [],
   "source": []
  }
 ],
 "metadata": {
  "kernelspec": {
   "display_name": "Python [conda env:base] *",
   "language": "python",
   "name": "conda-base-py"
  },
  "language_info": {
   "codemirror_mode": {
    "name": "ipython",
    "version": 3
   },
   "file_extension": ".py",
   "mimetype": "text/x-python",
   "name": "python",
   "nbconvert_exporter": "python",
   "pygments_lexer": "ipython3",
   "version": "3.11.5"
  }
 },
 "nbformat": 4,
 "nbformat_minor": 5
}
